{
 "cells": [
  {
   "cell_type": "code",
   "execution_count": 1,
   "metadata": {},
   "outputs": [],
   "source": [
    "#process large files and write there data to files that can be read by other code.\n",
    "import numpy as np\n",
    "import yt\n",
    "import time\n",
    "from yt.funcs import mylog\n",
    "import matplotlib.pyplot as plt\n",
    "mylog.setLevel(40) #prevents warning"
   ]
  },
  {
   "cell_type": "code",
   "execution_count": 2,
   "metadata": {},
   "outputs": [],
   "source": [
    "#setup\n",
    "#this is the only cell to be cehanged for each new image\n",
    "inputfile = (\"/scratch/jak491/hdf5_files/OUT_hdf5_plt_cnt_0116_gtm0\" , \"/scratch/jak491/hdf5_files/OUT_hdf5_plt_cnt_0187_gtm1\", \"/scratch/jak491/hdf5_files/OUT_hdf5_plt_cnt_0232_gtm2\", \"/scratch/jak491/hdf5_files/OUT_hdf5_plt_cnt_0252_gtm3\", \"/scratch/jak491/hdf5_files/OUT_hdf5_plt_cnt_0272_gtm4\", \"/scratch/jak491/hdf5_files/OUT_hdf5_plt_cnt_0276_gtm5\") \n",
    "outputfile = ('covering_grid_gtm')\n",
    "variable_name = ('density_0','density_1','density_2', 'density_3', 'density_4', 'density_5')"
   ]
  },
  {
   "cell_type": "code",
   "execution_count": 3,
   "metadata": {},
   "outputs": [],
   "source": [
    "#load in file and make covering grid\n",
    "d = {}\n",
    "for a in range(6):\n",
    "    ds = yt.load(inputfile[a])\n",
    "    level2 = ds.covering_grid(2,left_edge=ds.domain_left_edge,dims=ds.domain_dimensions*2**2)\n",
    "    d[variable_name[a]] = level2['density']"
   ]
  },
  {
   "cell_type": "code",
   "execution_count": 4,
   "metadata": {},
   "outputs": [],
   "source": [
    "density_0 = d['density_0']\n",
    "density_1 = d['density_1']\n",
    "density_2 = d['density_2']\n",
    "density_3 = d['density_3']\n",
    "density_4 = d['density_4']\n",
    "density_5 = d['density_5']"
   ]
  },
  {
   "cell_type": "code",
   "execution_count": 5,
   "metadata": {},
   "outputs": [],
   "source": [
    "np.savez(outputfile, density_0 = density_0, density_1 = density_1, density_2 = density_2, density_3 = density_3, density_4 = density_4, density_5 = density_5 )"
   ]
  },
  {
   "cell_type": "code",
   "execution_count": null,
   "metadata": {},
   "outputs": [],
   "source": []
  }
 ],
 "metadata": {
  "kernelspec": {
   "display_name": "Python 3",
   "language": "python",
   "name": "python3"
  },
  "language_info": {
   "codemirror_mode": {
    "name": "ipython",
    "version": 3
   },
   "file_extension": ".py",
   "mimetype": "text/x-python",
   "name": "python",
   "nbconvert_exporter": "python",
   "pygments_lexer": "ipython3",
   "version": "3.6.10"
  }
 },
 "nbformat": 4,
 "nbformat_minor": 4
}
