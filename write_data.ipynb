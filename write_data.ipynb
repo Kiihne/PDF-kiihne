{
 "cells": [
  {
   "cell_type": "code",
   "execution_count": 1,
   "metadata": {},
   "outputs": [],
   "source": [
    "#process large files and write there data to files that can be read by other code.\n",
    "import numpy as np\n",
    "import yt\n",
    "import time\n",
    "from yt.funcs import mylog\n",
    "import matplotlib.pyplot as plt\n",
    "mylog.setLevel(40) #prevents warning"
   ]
  },
  {
   "cell_type": "code",
   "execution_count": 16,
   "metadata": {},
   "outputs": [],
   "source": [
    "#setup\n",
    "#this is the only cell to be cehanged for each new image. npz.save seems to not be able to \n",
    "# handle to many of theseinputs at once. 4 seems to work best at one time \n",
    "\n",
    "#inputfile  = (\"/scratch/jak491/hdf5_files/OUT_hdf5_plt_cnt_0373_g10\", \"/scratch/jak491/hdf5_files/OUT_hdf5_plt_cnt_0127_gt10\", \"/scratch/jak491/hdf5_files/OUT_hdf5_plt_cnt_0309_gtm10\", \"/scratch/jak491/hdf5_files/OUT_hdf5_plt_cnt_0282_gtmp6\")\n",
    "#inputfile = (\"/scratch/jak491/hdf5_files/OUT_hdf5_plt_cnt_0361_g5\", \"/scratch/jak491/hdf5_files/OUT_hdf5_plt_cnt_0105_gt5\", \"/scratch/jak491/hdf5_files/OUT_hdf5_plt_cnt_0276_gtm5\", \"/scratch/jak491/hdf5_files/OUT_hdf5_plt_cnt_0255_gtmp5\")\n",
    "#inputfile = (\"/scratch/jak491/hdf5_files/OUT_hdf5_plt_cnt_0356_g4\", \"/scratch/jak491/hdf5_files/OUT_hdf5_plt_cnt_0100_gt4\", \"/scratch/jak491/hdf5_files/OUT_hdf5_plt_cnt_0272_gtm4\", \"/scratch/jak491/hdf5_files/OUT_hdf5_plt_cnt_0225_gtmp4\")\n",
    "#inputfile = (\"/scratch/jak491/hdf5_files/OUT_hdf5_plt_cnt_0347_g3\", \"/scratch/jak491/hdf5_files/OUT_hdf5_plt_cnt_0096_gt3\", \"/scratch/jak491/hdf5_files/OUT_hdf5_plt_cnt_0252_gtm3\", \"/scratch/jak491/hdf5_files/OUT_hdf5_plt_cnt_0201_gtmp3\")\n",
    "#inputfile = (\"/scratch/jak491/hdf5_files/OUT_hdf5_plt_cnt_0338_g2\", \"/scratch/jak491/hdf5_files/OUT_hdf5_plt_cnt_0092_gt2\", \"/scratch/jak491/hdf5_files/OUT_hdf5_plt_cnt_0232_gtm2\",\"/scratch/jak491/hdf5_files/OUT_hdf5_plt_cnt_0178_gtmp2\")\n",
    "#inputfile = (\"/scratch/jak491/hdf5_files/OUT_hdf5_plt_cnt_0330_g1\", \"/scratch/jak491/hdf5_files/OUT_hdf5_plt_cnt_0087_gt1\", \"/scratch/jak491/hdf5_files/OUT_hdf5_plt_cnt_0187_gtm1\", \"/scratch/jak491/hdf5_files/OUT_hdf5_plt_cnt_0132_gtmp1\")\n",
    "inputfile = (\"/scratch/jak491/hdf5_files/OUT_hdf5_plt_cnt_0321_g0\", \"/scratch/jak491/hdf5_files/OUT_hdf5_plt_cnt_0077_gt0\", \"/scratch/jak491/hdf5_files/OUT_hdf5_plt_cnt_0116_gtm0\", \"/scratch/jak491/hdf5_files/OUT_hdf5_plt_cnt_0077_gtmp0\" )\n",
    "#inputfile = (\"/scratch/jak491/hdf5_files/OUT_hdf5_plt_cnt_0116_gtm0\" , \"/scratch/jak491/hdf5_files/OUT_hdf5_plt_cnt_0187_gtm1\", \"/scratch/jak491/hdf5_files/OUT_hdf5_plt_cnt_0232_gtm2\", \"/scratch/jak491/hdf5_files/OUT_hdf5_plt_cnt_0252_gtm3\", \"/scratch/jak491/hdf5_files/OUT_hdf5_plt_cnt_0272_gtm4\", \"/scratch/jak491/hdf5_files/OUT_hdf5_plt_cnt_0276_gtm5\") \n",
    "outputfile = ('/scratch/jak491/npz_storage/vol_covering_grid_den0')\n",
    "variable_name = ('density_g','density_gt','density_gtm', 'density_gtmp')"
   ]
  },
  {
   "cell_type": "code",
   "execution_count": 6,
   "metadata": {},
   "outputs": [],
   "source": [
    "#load in file and make covering grid\n",
    "d = {}\n",
    "for a in range(4):\n",
    "    ds = yt.load(inputfile[a])\n",
    "    level2 = ds.covering_grid(2,left_edge=ds.domain_left_edge,dims=ds.domain_dimensions*2**2)\n",
    "    d[variable_name[a]] = level2['density']"
   ]
  },
  {
   "cell_type": "code",
   "execution_count": 34,
   "metadata": {},
   "outputs": [],
   "source": [
    "density_g = d['density_g']\n",
    "density_gt = d['density_gt']\n",
    "density_gtm = d['density_gtm']\n",
    "density_gtmp = d['density_gtmp']\n"
   ]
  },
  {
   "cell_type": "code",
   "execution_count": 35,
   "metadata": {},
   "outputs": [
    {
     "name": "stdout",
     "output_type": "stream",
     "text": [
      "0\n",
      "1\n",
      "2\n",
      "3\n",
      "4\n",
      "5\n",
      "6\n",
      "7\n",
      "8\n",
      "9\n",
      "10\n",
      "11\n"
     ]
    }
   ],
   "source": [
    "#process complex pieces\n",
    "b=0\n",
    "log_den = ['g_x', 'g_y','g_z','gt_x', 'gt_y','gt_z','gtm_x', 'gtm_y','gtm_z','gtmp_x', 'gtmp_y','gtmp_z']\n",
    "den_lv = (density_g,density_gt,density_gtm,density_gtmp)\n",
    "axis = ['x','y','z']\n",
    "for n in range(4):\n",
    "    den= den_lv[n]\n",
    "    for a in range(3):\n",
    "        print(b)\n",
    "        den_d = np.sum(den, axis = a)\n",
    "        den_flat_d = den_d.flatten()\n",
    "        den_mean_d = np.mean(den_flat_d)\n",
    "        log_den_d = np.log(den_flat_d/den_mean_d)  #log step is slowing down\n",
    "        log_den[b] = log_den_d\n",
    "        b = b+1"
   ]
  },
  {
   "cell_type": "code",
   "execution_count": 36,
   "metadata": {},
   "outputs": [],
   "source": [
    "np.savez(outputfile, density_g = density_g, density_gt = density_gt , density_gtm = density_gtm, density_gtmp = density_gtmp, log_den_g_x = log_den[0],log_den_g_y = log_den[1],log_den_g_z = log_den[2],log_den_gt_x = log_den[3], log_den_gt_y = log_den[4],log_den_gt_z = log_den[5], log_den_gtm_x = log_den[6], log_den_gtm_y = log_den[7], log_den_gtm_z = log_den[8], log_den_gtmp_x = log_den[9], log_den_gtmp_y = log_den[10], log_den_gtmp_z = log_den[11])"
   ]
  },
  {
   "cell_type": "code",
   "execution_count": 42,
   "metadata": {},
   "outputs": [
    {
     "data": {
      "text/plain": [
       "['density_g',\n",
       " 'density_gt',\n",
       " 'density_gtm',\n",
       " 'density_gtmp',\n",
       " 'log_den_g_x',\n",
       " 'log_den_g_y',\n",
       " 'log_den_g_z',\n",
       " 'log_den_gt_x',\n",
       " 'log_den_gt_y',\n",
       " 'log_den_gt_z',\n",
       " 'log_den_gtm_x',\n",
       " 'log_den_gtm_y',\n",
       " 'log_den_gtm_z',\n",
       " 'log_den_gtmp_x',\n",
       " 'log_den_gtmp_y',\n",
       " 'log_den_gtmp_z']"
      ]
     },
     "execution_count": 42,
     "metadata": {},
     "output_type": "execute_result"
    }
   ],
   "source": [
    "    plot_data = np.load('/scratch/jak491/npz_storage/covering_grid_den_high.npz', allow_pickle=True)\n",
    "    plot_data.files"
   ]
  },
  {
   "cell_type": "code",
   "execution_count": 17,
   "metadata": {},
   "outputs": [
    {
     "name": "stdout",
     "output_type": "stream",
     "text": [
      "0\n",
      "1\n",
      "2\n",
      "3\n"
     ]
    }
   ],
   "source": [
    "#load in file and make covering grid\n",
    "d = {}\n",
    "\n",
    "\n",
    "#process complex pieces\n",
    "b=0\n",
    "log_vol = [0,0,0,0]\n",
    "axis = ['x','y','z']\n",
    "for n in range(4):\n",
    "    print(b)\n",
    "    ds = yt.load(inputfile[n])\n",
    "    all_data = ds.all_data()\n",
    "    den = all_data['density']\n",
    "    cv = all_data['cell_volume']\n",
    "    ave_vol = np.mean(cv)\n",
    "    den_w= den*all_data['cell_volume']/ave_vol#den.flatten()\n",
    "    den_mean = np.mean(den_w)\n",
    "    log_den = np.log(den/den_mean)\n",
    "    log_vol[n] = log_den\n",
    "    b = b+1\n",
    "np.savez(outputfile,  log_vol_g = log_vol[0],log_vol_gt = log_vol[1], log_vol_gtm = log_vol[2], log_vol_gtmp = log_vol[3])       \n",
    "#np.savez(outputfile, density_g = density_g, density_gt = density_gt , density_gtm = density_gtm, density_gtmp = density_gtmp, log_vol_g = log_vol[0],log_vol_gt = log_vol[1], log_vol_gtm = log_vol[2], log_vol_gtmp = log_vol[3])"
   ]
  },
  {
   "cell_type": "code",
   "execution_count": null,
   "metadata": {},
   "outputs": [],
   "source": [
    "log_vol"
   ]
  },
  {
   "cell_type": "code",
   "execution_count": null,
   "metadata": {},
   "outputs": [],
   "source": []
  }
 ],
 "metadata": {
  "kernelspec": {
   "display_name": "Python 3",
   "language": "python",
   "name": "python3"
  },
  "language_info": {
   "codemirror_mode": {
    "name": "ipython",
    "version": 3
   },
   "file_extension": ".py",
   "mimetype": "text/x-python",
   "name": "python",
   "nbconvert_exporter": "python",
   "pygments_lexer": "ipython3",
   "version": "3.6.10"
  }
 },
 "nbformat": 4,
 "nbformat_minor": 4
}
