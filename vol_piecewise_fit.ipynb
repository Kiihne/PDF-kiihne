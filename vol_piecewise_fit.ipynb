{
 "cells": [
  {
   "cell_type": "code",
   "execution_count": 48,
   "metadata": {},
   "outputs": [],
   "source": [
    "#plotting the Power Law fit with PLFit function, modified\n",
    "import numpy as np\n",
    "import yt\n",
    "import time\n",
    "from yt.funcs import mylog\n",
    "import matplotlib.pyplot as plt\n",
    "mylog.setLevel(40) #prevents warning\n",
    "plt.style.use('default')\n",
    "import scipy\n",
    "from scipy import optimize\n",
    "from pdf_fitter import *\n",
    "import pandas as pd\n",
    "plt.rcParams[\"font.family\"] = \"serif\""
   ]
  },
  {
   "cell_type": "code",
   "execution_count": 49,
   "metadata": {},
   "outputs": [],
   "source": [
    "###all setup condensed to one block. no need to rerun between trials\n",
    "#only cell in need of changing between runs\n",
    "inputfile = ('/scratch/jak491/npz_storage/vol_covering_grid_den0.npz','/scratch/jak491/npz_storage/vol_covering_grid_den1.npz','/scratch/jak491/npz_storage/vol_covering_grid_den2.npz', '/scratch/jak491/npz_storage/vol_covering_grid_den3.npz', '/scratch/jak491/npz_storage/vol_covering_grid_den4.npz', '/scratch/jak491/npz_storage/vol_covering_grid_den5.npz', '/scratch/jak491/npz_storage/vol_covering_grid_den_high.npz')\n",
    "percent = 5\n",
    "perc = '5'\n",
    "titles = ('gravity ','turbulence', 'magnetic fields', 'all+ outflows')\n",
    "slopes =[]\n",
    "slopes_error = []\n",
    "sigmas = []\n",
    "sigmas_error = []\n",
    "#titles = ('10% SFE\\nG','10% SFE\\nG+T','10% SFE\\nG+T+M','6% SFE\\nG+T+M+P' )\n",
    "sigma_limit = 2\n",
    "slope_limit = 2\n",
    "\n",
    "#define Linear function \n",
    "def linear(x, m, b): \n",
    "    return m*x + b    \n",
    "#define Log Normal function\n",
    "def lognorm(x,mu,sigma):\n",
    "    return np.log((1/(np.sqrt(2*np.pi*sigma**2)))*(np.exp(-((x-mu)**2)/(2*sigma**2))))\n",
    " \n",
    "#plot setup\n",
    "d = {}\n",
    "variable_name =('density_g','density_gt','density_gtm', 'density_gtmp')\n",
    "input_file = inputfile[percent]\n",
    "plot_data = np.load(input_file, allow_pickle=True)\n",
    "\n",
    "#editting the package to allow small sigma\n",
    "class Params():\n",
    "    def __init__(self, root_finding_lower_lim= -15, root_finding_upper_lim=1, root_finding_step_size=0.2, \\\n",
    "                root_finding_max_tries=40, s_cut_off = 10, y_min_cut_off=0, bounds = [(0,1.01,0.3,3),(5,5,5,10)],\\\n",
    "                shrink_data = 4, debug=False, single_bounds=[(.1,.1),(5,5)]):\n",
    "        \n",
    "        ''' Parameters: \n",
    "        root_finding_lower_lim - This is the lower limit for the root finding range.\n",
    "        root_finding_upper_lim - This is the upper limit for the root finding range.\n",
    "        root_finding_step_size - This is the step_size for root finding. Range shrinks by this value after each iteration.\n",
    "        root_finding_max_tries - This is the maximum number of attempts to make at root_finding.\n",
    "        s_cut_off - The maximum cut-off for the x values.\n",
    "        y_min_cut_off - The minimum cut-off for the y-values.\n",
    "        bounds - The bounds of the parameters (double PL case).\n",
    "        shrink_data - The number of data points to remove from the edges.\n",
    "        debug - Flag for printing the parameter values while fitting is ongoing.\n",
    "        single_bounds - The bounds of the fitted parameters (single PL case).\n",
    "        '''\n",
    "        self.root_finding_lower_lim=root_finding_lower_lim\n",
    "        self.root_finding_upper_lim=root_finding_upper_lim\n",
    "        self.root_finding_step_size=root_finding_step_size   #This means the range shrinks by 0.2 (default) everytime.\n",
    "        self.root_finding_max_tries=root_finding_max_tries\n",
    "        self.s_cut_off=s_cut_off\n",
    "        self.y_min_cut_off=y_min_cut_off\n",
    "        self.bounds = bounds\n",
    "        self.shrink_data = shrink_data                       #Removing some data points from the edges helps to fit better.\n",
    "        self.debug=debug\n",
    "        self.single_bounds=single_bounds\n",
    "        \n"
   ]
  },
  {
   "cell_type": "code",
   "execution_count": 51,
   "metadata": {},
   "outputs": [
    {
     "name": "stdout",
     "output_type": "stream",
     "text": [
      "starting\n",
      "0\n"
     ]
    },
    {
     "ename": "TypeError",
     "evalue": "'>' not supported between instances of 'list' and 'int'",
     "output_type": "error",
     "traceback": [
      "\u001b[0;31m---------------------------------------------------------------------------\u001b[0m",
      "\u001b[0;31mTypeError\u001b[0m                                 Traceback (most recent call last)",
      "\u001b[0;32m<ipython-input-51-7ada8343fc91>\u001b[0m in \u001b[0;36m<module>\u001b[0;34m\u001b[0m\n\u001b[1;32m     48\u001b[0m         \u001b[0mp0\u001b[0m\u001b[0;34m=\u001b[0m\u001b[0;34m[\u001b[0m\u001b[0;36m.66\u001b[0m\u001b[0;34m,\u001b[0m \u001b[0;36m3\u001b[0m\u001b[0;34m]\u001b[0m\u001b[0;34m\u001b[0m\u001b[0;34m\u001b[0m\u001b[0m\n\u001b[1;32m     49\u001b[0m         \u001b[0mparams\u001b[0m \u001b[0;34m=\u001b[0m \u001b[0mParams\u001b[0m\u001b[0;34m(\u001b[0m\u001b[0ms_cut_off\u001b[0m \u001b[0;34m=\u001b[0m \u001b[0;36m6\u001b[0m\u001b[0;34m)\u001b[0m \u001b[0;31m#cut off for x, the maximum value of x\u001b[0m\u001b[0;34m\u001b[0m\u001b[0;34m\u001b[0m\u001b[0m\n\u001b[0;32m---> 50\u001b[0;31m         \u001b[0mresults\u001b[0m \u001b[0;34m=\u001b[0m \u001b[0mPLFit\u001b[0m\u001b[0;34m(\u001b[0m\u001b[0mxdata\u001b[0m\u001b[0;34m,\u001b[0m \u001b[0mydata\u001b[0m\u001b[0;34m,\u001b[0m \u001b[0mp0\u001b[0m\u001b[0;34m,\u001b[0m \u001b[0mparams\u001b[0m\u001b[0;34m)\u001b[0m\u001b[0;31m#, use_K21=True)\u001b[0m\u001b[0;34m\u001b[0m\u001b[0;34m\u001b[0m\u001b[0m\n\u001b[0m\u001b[1;32m     51\u001b[0m         \u001b[0my_int\u001b[0m \u001b[0;34m=\u001b[0m \u001b[0;36m.6\u001b[0m\u001b[0;34m\u001b[0m\u001b[0;34m\u001b[0m\u001b[0m\n\u001b[1;32m     52\u001b[0m         \u001b[0msigma_limit\u001b[0m \u001b[0;34m=\u001b[0m \u001b[0mresults\u001b[0m\u001b[0;34m.\u001b[0m\u001b[0msg\u001b[0m\u001b[0;34m\u001b[0m\u001b[0;34m\u001b[0m\u001b[0m\n",
      "\u001b[0;32m~/.local/lib/python3.6/site-packages/pdf_fitter.py\u001b[0m in \u001b[0;36mPLFit\u001b[0;34m(xdata, ydata, p0, params, use_K21, print_result)\u001b[0m\n\u001b[1;32m     65\u001b[0m \u001b[0;32mdef\u001b[0m \u001b[0mPLFit\u001b[0m\u001b[0;34m(\u001b[0m\u001b[0mxdata\u001b[0m\u001b[0;34m,\u001b[0m \u001b[0mydata\u001b[0m\u001b[0;34m,\u001b[0m \u001b[0mp0\u001b[0m\u001b[0;34m,\u001b[0m \u001b[0mparams\u001b[0m\u001b[0;34m,\u001b[0m \u001b[0muse_K21\u001b[0m\u001b[0;34m=\u001b[0m\u001b[0;32mTrue\u001b[0m\u001b[0;34m,\u001b[0m \u001b[0mprint_result\u001b[0m\u001b[0;34m=\u001b[0m\u001b[0;32mTrue\u001b[0m\u001b[0;34m)\u001b[0m\u001b[0;34m:\u001b[0m\u001b[0;34m\u001b[0m\u001b[0;34m\u001b[0m\u001b[0m\n\u001b[1;32m     66\u001b[0m     \u001b[0mwarnings\u001b[0m\u001b[0;34m.\u001b[0m\u001b[0mfilterwarnings\u001b[0m\u001b[0;34m(\u001b[0m\u001b[0;34m\"ignore\"\u001b[0m\u001b[0;34m)\u001b[0m\u001b[0;34m\u001b[0m\u001b[0;34m\u001b[0m\u001b[0m\n\u001b[0;32m---> 67\u001b[0;31m     \u001b[0mindex\u001b[0m \u001b[0;34m=\u001b[0m \u001b[0mnp\u001b[0m\u001b[0;34m.\u001b[0m\u001b[0mwhere\u001b[0m\u001b[0;34m(\u001b[0m\u001b[0mydata\u001b[0m\u001b[0;34m>\u001b[0m\u001b[0mparams\u001b[0m\u001b[0;34m.\u001b[0m\u001b[0my_min_cut_off\u001b[0m\u001b[0;34m)\u001b[0m\u001b[0;34m\u001b[0m\u001b[0;34m\u001b[0m\u001b[0m\n\u001b[0m\u001b[1;32m     68\u001b[0m     \u001b[0mnew_datapts\u001b[0m \u001b[0;34m=\u001b[0m \u001b[0mnp\u001b[0m\u001b[0;34m.\u001b[0m\u001b[0mtake\u001b[0m\u001b[0;34m(\u001b[0m\u001b[0mydata\u001b[0m\u001b[0;34m,\u001b[0m \u001b[0mindex\u001b[0m\u001b[0;34m[\u001b[0m\u001b[0;36m0\u001b[0m\u001b[0;34m]\u001b[0m\u001b[0;34m)\u001b[0m\u001b[0;34m\u001b[0m\u001b[0;34m\u001b[0m\u001b[0m\n\u001b[1;32m     69\u001b[0m     \u001b[0mnew_datapts_x\u001b[0m \u001b[0;34m=\u001b[0m \u001b[0mnp\u001b[0m\u001b[0;34m.\u001b[0m\u001b[0mtake\u001b[0m\u001b[0;34m(\u001b[0m\u001b[0mxdata\u001b[0m\u001b[0;34m,\u001b[0m \u001b[0mindex\u001b[0m\u001b[0;34m[\u001b[0m\u001b[0;36m0\u001b[0m\u001b[0;34m]\u001b[0m\u001b[0;34m)\u001b[0m\u001b[0;34m\u001b[0m\u001b[0;34m\u001b[0m\u001b[0m\n",
      "\u001b[0;31mTypeError\u001b[0m: '>' not supported between instances of 'list' and 'int'"
     ]
    },
    {
     "data": {
      "image/png": "[encoded data removed]",
      "text/plain": [
       "<Figure size 1200x800 with 4 Axes>"
      ]
     },
     "metadata": {},
     "output_type": "display_data"
    }
   ],
   "source": [
    "#power law fitting. \n",
    "start = time.time()\n",
    "print('starting')\n",
    "slopes = []\n",
    "transit =[]\n",
    "transit_error = []\n",
    "error = []\n",
    "fig, ax = plt.subplots(nrows=2,ncols=2,figsize=(12,8), sharex = 'all', sharey = 'row', gridspec_kw={'hspace': 0,'wspace':0})\n",
    "\n",
    "ax =ax.ravel()\n",
    "#plt.suptitle('Column Densities with ' + perc + '% SFE', size =26)\n",
    "#ax[0].annotate(' log upper limit = .75\\n linear lower limit = 1',[-2,1e-5], size =15)\n",
    "\n",
    "ax[0].plot(100,100, color = '#377eb8', alpha =1)\n",
    "ax[0].plot(100,100, color = '#ff7f00', alpha =1)\n",
    "ax[0].plot(100,100, color = '#4daf4a', alpha =1)\n",
    "ax[0].legend([ 'x', 'y', 'z'],fontsize =15)\n",
    "b = 0\n",
    "\n",
    "for n in range(4):\n",
    "    den = plot_data[plot_data.files[n]]\n",
    "    color_list = ('#377eb8', '#ff7f00', '#4daf4a')\n",
    "    print(n)     #for time keeping\n",
    "    \n",
    "    for a in (range(1)):\n",
    "        log_den_d = plot_data[plot_data.files[b]]\n",
    "        counts_d, binS_d = np.histogram(log_den_d,bins=50, density= True)\n",
    "        b = b+1\n",
    "        #trying to cut off all points below -3\n",
    "        bins = []\n",
    "        counts = []\n",
    "        for L in range(len(binS_d)):\n",
    "            if binS_d[L] > -3:\n",
    "                bins.append(binS_d[L])\n",
    "                if L < 50:\n",
    "                    counts.append(counts_d[L])\n",
    "\n",
    "        bin_list = []\n",
    "        for i in range(len(bins)-1):\n",
    "            bin_i=(bins[i]+bins[i+1])/2\n",
    "            bin_list.append(bin_i)\n",
    "\n",
    "#######################################################################################\n",
    "        #power fit specifics\n",
    "        xdata = bin_list\n",
    "        ydata = counts\n",
    "        #p0= (sigma, alpha)\n",
    "        p0=[.66, 3]\n",
    "        params = Params(s_cut_off = 6) #cut off for x, the maximum value of x\n",
    "        results = PLFit(xdata, ydata, p0, params)#, use_K21=True)\n",
    "        y_int = .6\n",
    "        sigma_limit = results.sg\n",
    "        slope_limit = results.sg\n",
    "        trans = results.sg\n",
    "        trans_error = results.sg_err\n",
    "        transit.append(trans)\n",
    "        transit_error.append(trans_error)\n",
    "        slope = results.alpha_g\n",
    "        slopes.append(slope)\n",
    "        sigma = results.sigma\n",
    "        sigmas.append(sigma)\n",
    "        slope_error = results.alpha_g_err\n",
    "        slopes_error.append(slope_error)\n",
    "        sigma_error = results.sigma_err\n",
    "        sigmas_error.append(sigma_error)\n",
    "#######################################################################################\n",
    "        #create subrange and plots linear fit\n",
    "        x =[]\n",
    "        y = []\n",
    "        x_log =[]\n",
    "        y_log = []\n",
    "        for i in range(len(bin_list)):\n",
    "            if bin_list[i] > slope_limit:\n",
    "                if counts_d[i] > 0:\n",
    "                        x.append(bin_list[i])\n",
    "                        y.append(counts_d[i])\n",
    "                else:\n",
    "                    break\n",
    "\n",
    "        #create subrange and plots linear fit\n",
    "        x =[]\n",
    "        y = []\n",
    "        x_log =[]\n",
    "        y_log = []\n",
    "        for i in range(len(bin_list)):\n",
    "            if bin_list[i] > slope_limit:\n",
    "                if counts_d[i] > 0:\n",
    "                        x.append(bin_list[i])\n",
    "                        y.append(counts_d[i])\n",
    "                else:\n",
    "                    break\n",
    "        for i in range(len(bin_list)):\n",
    "            if bin_list[i] < sigma_limit:\n",
    "                    x_log.append(bin_list[i])\n",
    "                    y_log.append(counts_d[i])\n",
    "            else:\n",
    "                break\n",
    "                \n",
    "        \n",
    "        log_param, log_con = scipy.optimize.curve_fit(lognorm, x_log, np.log(y_log))\n",
    "        y_log = lognorm(np.array(x_log),results.s0,results.sigma)\n",
    "        #find y intercept\n",
    "        m = -1*results.alpha_g\n",
    "        x_b = x_log[len(x_log)-1]\n",
    "        y_b = y_log[len(y_log)-1]\n",
    "        b_log =  y_b-(m*x_b)\n",
    "        \n",
    "        y = linear(np.array(x),m,b_log)\n",
    "\n",
    "        \n",
    "        ax[n].plot(x,np.exp(y), color = color_list[a])\n",
    "        ax[n].plot(x_log,np.exp(y_log), color = color_list[a])\n",
    "\n",
    "    \n",
    "        ax[n].plot(bin_list, counts_d, color = color_list[a], alpha = .3)\n",
    "        #ax[n].plot(x,np.exp(y), color = color_list[a])\n",
    "\n",
    "\n",
    "        \n",
    "    if n > 1:\n",
    "        ax[n].set_xlabel(r'ln($N/N_0$)', size=25)\n",
    "    if n == 0 or n == 2:\n",
    "        ax[n].set_ylabel(r'p(ln($N/N_0$))', size=25)\n",
    "    \n",
    "\n",
    "    ax[n].annotate(titles[n], (4,.2), color = 'black', fontsize =15, weight = 'bold',horizontalalignment='left',verticalalignment='center', textcoords='data', bbox=dict(facecolor='white', alpha=0.8))\n",
    "\n",
    "    #ax[n].set_title(titles[n], size = 17)\n",
    "    ax[n].tick_params(direction='in', length=6, size = 10, labelsize = 14)\n",
    "    ax[n].set_yscale('log')\n",
    "    ax[n].set_ylim(10**(-7.5),1.1)\n",
    "    ax[n].set_xlim(-9,12)\n",
    "    ax[n].tick_params(direction='in', length=10, labelsize = 15, which = 'major')\n",
    "\n",
    "    ax[n].set_xticks((-8,-4,0,4,8))\n",
    "    ax[n].set_yticks((1e0,1e-1,1e-2,1e-3,1e-4,1e-5,1e-6))\n",
    "\n",
    "plt.tight_layout()\n",
    "plt.subplots_adjust(top=.85)\n",
    "plt.savefig('PLFit_vol_'+perc+'%.pdf', bbox_inches='tight', format = 'pdf')\n",
    "plt.show()\n",
    "\n",
    "file = open(\"txt_file_storage/vol_power_fit_slope\" +perc+\"%.txt\", \"w\")\n",
    "str_dictionary = repr(slopes)\n",
    "file.write(str_dictionary + \"\\n\")\n",
    "str_dictionary = repr(slopes_error)\n",
    "file.write(str_dictionary + \"\\n\")\n",
    "file.close()\n",
    "\n",
    "file = open(\"txt_file_storage/vol_power_fit_sigma\" +perc+\"%.txt\", \"w\")\n",
    "str_dictionary = repr(sigmas)\n",
    "file.write(str_dictionary + \"\\n\")\n",
    "str_dictionary = repr(sigmas_error)\n",
    "file.write(str_dictionary + \"\\n\")\n",
    "file.close()\n",
    "\n",
    "file = open(\"txt_file_storage/vol_trans_density\" +perc+\"%.txt\", \"w\")\n",
    "str_dictionary = repr(transit)\n",
    "file.write(str_dictionary + \"\\n\")\n",
    "str_dictionary = repr(transit_error)\n",
    "file.write(str_dictionary + \"\\n\")\n",
    "file.close()\n",
    "\n",
    "end = time.time()\n",
    "print(\"time:\",(end-start)/60)"
   ]
  },
  {
   "cell_type": "code",
   "execution_count": 6,
   "metadata": {},
   "outputs": [
    {
     "data": {
      "text/plain": [
       "25063424"
      ]
     },
     "execution_count": 6,
     "metadata": {},
     "output_type": "execute_result"
    }
   ],
   "source": [
    "len(log_den_d)"
   ]
  },
  {
   "cell_type": "code",
   "execution_count": 14,
   "metadata": {},
   "outputs": [
    {
     "name": "stdout",
     "output_type": "stream",
     "text": [
      "time: -14.854271054267883\n"
     ]
    }
   ],
   "source": []
  },
  {
   "cell_type": "code",
   "execution_count": 13,
   "metadata": {},
   "outputs": [
    {
     "data": {
      "text/plain": [
       "23285091"
      ]
     },
     "execution_count": 13,
     "metadata": {},
     "output_type": "execute_result"
    }
   ],
   "source": [
    "len(log_den)"
   ]
  },
  {
   "cell_type": "code",
   "execution_count": 40,
   "metadata": {},
   "outputs": [],
   "source": [
    "bins = []\n",
    "counts = []\n",
    "for L in range(len(binS_d)):\n",
    "    if binS_d[L] > 3:\n",
    "        bins.append(binS_d[L])\n",
    "        if L < 50:\n",
    "            counts.append(counts_d[L])\n"
   ]
  },
  {
   "cell_type": "code",
   "execution_count": 37,
   "metadata": {},
   "outputs": [
    {
     "data": {
      "text/plain": [
       "11.216630698153773"
      ]
     },
     "execution_count": 37,
     "metadata": {},
     "output_type": "execute_result"
    }
   ],
   "source": []
  },
  {
   "cell_type": "code",
   "execution_count": 46,
   "metadata": {},
   "outputs": [
    {
     "data": {
      "text/plain": [
       "31"
      ]
     },
     "execution_count": 46,
     "metadata": {},
     "output_type": "execute_result"
    }
   ],
   "source": [
    "len(ydata)"
   ]
  },
  {
   "cell_type": "code",
   "execution_count": null,
   "metadata": {},
   "outputs": [],
   "source": []
  }
 ],
 "metadata": {
  "kernelspec": {
   "display_name": "Python 3",
   "language": "python",
   "name": "python3"
  },
  "language_info": {
   "codemirror_mode": {
    "name": "ipython",
    "version": 3
   },
   "file_extension": ".py",
   "mimetype": "text/x-python",
   "name": "python",
   "nbconvert_exporter": "python",
   "pygments_lexer": "ipython3",
   "version": "3.6.10"
  }
 },
 "nbformat": 4,
 "nbformat_minor": 4
}
