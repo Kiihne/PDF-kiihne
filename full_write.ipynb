{
 "cells": [
  {
   "cell_type": "code",
   "execution_count": 14,
   "metadata": {},
   "outputs": [],
   "source": [
    "#process large files and write there data to files that can be read by other code.\n",
    "import numpy as np\n",
    "import yt\n",
    "import time\n",
    "from yt.funcs import mylog\n",
    "import matplotlib.pyplot as plt\n",
    "mylog.setLevel(40) #prevents warning"
   ]
  },
  {
   "cell_type": "code",
   "execution_count": 21,
   "metadata": {},
   "outputs": [],
   "source": [
    "#setup\n",
    "#this is the only cell to be cehanged for each new image. npz.save seems to not be able to \n",
    "# handle to many of theseinputs at once. 4 seems to work best at one time \n",
    "\n",
    "inputfile  = (\"/scratch/jak491/hdf5_files/OUT_hdf5_plt_cnt_0373_g10\", \"/scratch/jak491/hdf5_files/OUT_hdf5_plt_cnt_0127_gt10\", \"/scratch/jak491/hdf5_files/OUT_hdf5_plt_cnt_0309_gtm10\", \"/scratch/jak491/hdf5_files/OUT_hdf5_plt_cnt_0282_gtmp6\")\n",
    "#inputfile = (\"/scratch/jak491/hdf5_files/OUT_hdf5_plt_cnt_0361_g5\", \"/scratch/jak491/hdf5_files/OUT_hdf5_plt_cnt_0105_gt5\", \"/scratch/jak491/hdf5_files/OUT_hdf5_plt_cnt_0276_gtm5\", \"/scratch/jak491/hdf5_files/OUT_hdf5_plt_cnt_0255_gtmp5\")\n",
    "#inputfile = (\"/scratch/jak491/hdf5_files/OUT_hdf5_plt_cnt_0356_g4\", \"/scratch/jak491/hdf5_files/OUT_hdf5_plt_cnt_0100_gt4\", \"/scratch/jak491/hdf5_files/OUT_hdf5_plt_cnt_0272_gtm4\", \"/scratch/jak491/hdf5_files/OUT_hdf5_plt_cnt_0225_gtmp4\")\n",
    "#inputfile = (\"/scratch/jak491/hdf5_files/OUT_hdf5_plt_cnt_0347_g3\", \"/scratch/jak491/hdf5_files/OUT_hdf5_plt_cnt_0096_gt3\", \"/scratch/jak491/hdf5_files/OUT_hdf5_plt_cnt_0252_gtm3\", \"/scratch/jak491/hdf5_files/OUT_hdf5_plt_cnt_0201_gtmp3\")\n",
    "#inputfile = (\"/scratch/jak491/hdf5_files/OUT_hdf5_plt_cnt_0338_g2\", \"/scratch/jak491/hdf5_files/OUT_hdf5_plt_cnt_0092_gt2\", \"/scratch/jak491/hdf5_files/OUT_hdf5_plt_cnt_0232_gtm2\",\"/scratch/jak491/hdf5_files/OUT_hdf5_plt_cnt_0178_gtmp2\")\n",
    "#inputfile = (\"/scratch/jak491/hdf5_files/OUT_hdf5_plt_cnt_0330_g1\", \"/scratch/jak491/hdf5_files/OUT_hdf5_plt_cnt_0087_gt1\", \"/scratch/jak491/hdf5_files/OUT_hdf5_plt_cnt_0187_gtm1\", \"/scratch/jak491/hdf5_files/OUT_hdf5_plt_cnt_0132_gtmp1\")\n",
    "#inputfile = (\"/scratch/jak491/hdf5_files/OUT_hdf5_plt_cnt_0321_g0\", \"/scratch/jak491/hdf5_files/OUT_hdf5_plt_cnt_0077_gt0\", \"/scratch/jak491/hdf5_files/OUT_hdf5_plt_cnt_0116_gtm0\", \"/scratch/jak491/hdf5_files/OUT_hdf5_plt_cnt_0077_gtmp0\" )\n",
    "outputfile = ('/scratch/jak491/npz_storage/vol_covering_grid_den_high')\n",
    "variable_name = ('density_g','density_gt','density_gtm', 'density_gtmp')"
   ]
  },
  {
   "cell_type": "code",
   "execution_count": 22,
   "metadata": {},
   "outputs": [
    {
     "name": "stdout",
     "output_type": "stream",
     "text": [
      "starting\n",
      "time: 2.9010133266448976\n"
     ]
    }
   ],
   "source": [
    "#load in file and make covering grid\n",
    "start = time.time()\n",
    "print('starting')\n",
    "d = {}\n",
    "for a in range(4):\n",
    "    ds = yt.load(inputfile[a])\n",
    "    level2 = ds.covering_grid(2,left_edge=ds.domain_left_edge,dims=ds.domain_dimensions*2**2)\n",
    "    d[variable_name[a]] = level2['density']\n",
    "    \n",
    "end = time.time()\n",
    "print(\"time:\",(end-start)/60)"
   ]
  },
  {
   "cell_type": "code",
   "execution_count": 23,
   "metadata": {},
   "outputs": [
    {
     "name": "stdout",
     "output_type": "stream",
     "text": [
      "starting\n",
      "0\n",
      "1\n",
      "2\n",
      "3\n",
      "time: 3.776434671878815\n"
     ]
    }
   ],
   "source": [
    "#load in file and make covering grid\n",
    "start = time.time()\n",
    "print('starting')\n",
    "#process complex pieces\n",
    "b=0\n",
    "full_bins = [0,0,0,0]\n",
    "full_counts = [0,0,0,0]\n",
    "axis = ['x','y','z']\n",
    "for n in range(4):\n",
    "    print(b)\n",
    "    ds = yt.load(inputfile[n])\n",
    "    all_data = ds.all_data()\n",
    "    #these lines call specific variables from covering grid\n",
    "    den = all_data['density']\n",
    "    cv = all_data['cell_volume']\n",
    "    ave_vol = np.mean(cv)\n",
    "    den_w= den*all_data['cell_volume']/ave_vol#den.flatten()\n",
    "    den_mean = np.mean(den_w)\n",
    "    log_den = np.log(den/den_mean)\n",
    "    #make the actual histogram and determine how many bins to split into\n",
    "    counts_d, binS_d = np.histogram(log_den,bins=50, weights = cv,density = True)\n",
    "    #bin_list and counts_d are what is actually plotted\n",
    "    bin_list = [] \n",
    "    for i in range(len(binS_d)-1):\n",
    "        bin_i=(binS_d[i]+binS_d[i+1])/2\n",
    "        bin_list.append(bin_i)\n",
    "    full_bins[n] = bin_list\n",
    "    full_counts[n] = counts_d\n",
    "    #next parts where originally in plotting notebooks\n",
    "    b = b+1\n",
    "np.savez(outputfile,  bins_g = full_bins[0],bins_gt = full_bins[1], bins_gtm = full_bins[2], bins_gtmp = full_bins[3], counts_g = full_counts[0], counts_gt = full_counts[1], counts_gtm = full_counts[2], counts_gtmp = full_counts[3])       \n",
    "#np.savez(outputfile, density_g = density_g, density_gt = density_gt , density_gtm = density_gtm, density_gtmp = density_gtmp, log_vol_g = log_vol[0],log_vol_gt = log_vol[1], log_vol_gtm = log_vol[2], log_vol_gtmp = log_vol[3])\n",
    "end = time.time()\n",
    "print(\"time:\",(end-start)/60)"
   ]
  },
  {
   "cell_type": "code",
   "execution_count": null,
   "metadata": {},
   "outputs": [],
   "source": []
  },
  {
   "cell_type": "code",
   "execution_count": null,
   "metadata": {},
   "outputs": [],
   "source": []
  }
 ],
 "metadata": {
  "kernelspec": {
   "display_name": "Python 3",
   "language": "python",
   "name": "python3"
  },
  "language_info": {
   "codemirror_mode": {
    "name": "ipython",
    "version": 3
   },
   "file_extension": ".py",
   "mimetype": "text/x-python",
   "name": "python",
   "nbconvert_exporter": "python",
   "pygments_lexer": "ipython3",
   "version": "3.6.10"
  }
 },
 "nbformat": 4,
 "nbformat_minor": 4
}
